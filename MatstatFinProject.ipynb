{
 "cells": [
  {
   "cell_type": "markdown",
   "id": "a522e76f",
   "metadata": {},
   "source": [
    "Мною взяты данные по клиническому исследованию на тему \"Инфекционный эндокардит: клиническая характеристика и исходы (7-летний опыт лечения и наблюдения в многопрофильной городской больнице)\"\n",
    "\n",
    "В исследование были включены 176 пациентов с ИЭ, госпитализированных в течение 2010–2017 гг., из них 53 пациента умерли, 21 из которых - в стационаре.\n",
    "\n",
    "Имеются данные отношения шансов при независимом предикторе смерти в стационаре - MRSA (метициллинрезистентные стафилококки):\n",
    "\n",
    "[57.20, 18.60, 43.41, 20.55, 80.67, 65.93, 26.19, 74.29, 68.32, 69.11, 31.24, 25.96, 32.47, 64.58, 59.42, 20.15, 36.44, 88.25, 60.32, 39.49, 74.21]\n",
    "\n",
    "Цель моего проекта - найти доверительный интервал для математического ожидания с надежностью 0.95."
   ]
  },
  {
   "cell_type": "code",
   "execution_count": null,
   "id": "95fb608a",
   "metadata": {},
   "outputs": [],
   "source": [
    "import numpy as np\n",
    "import scipy.stats as stats\n",
    "from statsmodels.stats.weightstats import _tconfint_generic as t_stat\n",
    "from statsmodels.stats.weightstats import _zconfint_generic as z_stat"
   ]
  },
  {
   "cell_type": "code",
   "execution_count": 2,
   "id": "eef500b1",
   "metadata": {},
   "outputs": [],
   "source": [
    "x = np.array([57.20, 18.60, 43.41, 20.55, 80.67, 65.93, 26.19, 74.29, 68.32, 69.11, 31.24, 25.96, 32.47, 64.58, 59.42, 20.15,\n",
    "             36.44, 88.25, 60.32, 39.49, 74.21])\n",
    "M_x = x.mean()\n",
    "M_x\n",
    "Std_x = x.std()\n",
    "x_mean_std = Std_x / (np.sqrt(len(x)))"
   ]
  },
  {
   "cell_type": "code",
   "execution_count": 3,
   "id": "56f04ba0",
   "metadata": {},
   "outputs": [
    {
     "data": {
      "text/plain": [
       "(40.451430816138995, 60.19618823148005)"
      ]
     },
     "execution_count": 3,
     "metadata": {},
     "output_type": "execute_result"
    }
   ],
   "source": [
    "t_stat(M_x, x_mean_std, len(x)-1, 0.05, 'two-sided')"
   ]
  },
  {
   "cell_type": "code",
   "execution_count": null,
   "id": "54ff0441",
   "metadata": {},
   "outputs": [],
   "source": [
    "Вывод: Интервал [40.4514; 60.1962] покрывает истинное значение мат.ожидания с вероятностью 0,95."
   ]
  }
 ],
 "metadata": {
  "kernelspec": {
   "display_name": "Python 3 (ipykernel)",
   "language": "python",
   "name": "python3"
  },
  "language_info": {
   "codemirror_mode": {
    "name": "ipython",
    "version": 3
   },
   "file_extension": ".py",
   "mimetype": "text/x-python",
   "name": "python",
   "nbconvert_exporter": "python",
   "pygments_lexer": "ipython3",
   "version": "3.9.12"
  }
 },
 "nbformat": 4,
 "nbformat_minor": 5
}
