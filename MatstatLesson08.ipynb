{
 "cells": [
  {
   "cell_type": "markdown",
   "id": "90dc3aac",
   "metadata": {},
   "source": [
    "#### Провести дисперсионный анализ для определения того, есть ли различия среднего роста среди взрослых футболистов, хоккеистов и штангистов. Даны значения роста в трех группах случайно выбранных спортсменов: Футболисты: 173, 175, 180, 178, 177, 185, 183, 182. Хоккеисты: 177, 179, 180, 188, 177, 172, 171, 184, 180. Штангисты: 172, 173, 169, 177, 166, 180, 178, 177, 172, 166, 170. alpha = 0.05."
   ]
  },
  {
   "cell_type": "code",
   "execution_count": 1,
   "id": "9cc421a2",
   "metadata": {},
   "outputs": [],
   "source": [
    "import numpy as np"
   ]
  },
  {
   "cell_type": "code",
   "execution_count": 2,
   "id": "b9925c40",
   "metadata": {},
   "outputs": [
    {
     "name": "stdout",
     "output_type": "stream",
     "text": [
      "Общее количество наблюдаемых равно 28\n"
     ]
    }
   ],
   "source": [
    "n1 = 8\n",
    "n2 = 9\n",
    "n3 = 11\n",
    "n = n1+n2+n3\n",
    "print(f'Общее количество наблюдаемых равно {n}')"
   ]
  },
  {
   "cell_type": "code",
   "execution_count": 3,
   "id": "a6a40c6d",
   "metadata": {},
   "outputs": [
    {
     "name": "stdout",
     "output_type": "stream",
     "text": [
      "Общее количество наблюдаемых групп равно 3\n"
     ]
    }
   ],
   "source": [
    "k = 3\n",
    "print(f'Общее количество наблюдаемых групп равно {k}')"
   ]
  },
  {
   "cell_type": "code",
   "execution_count": 4,
   "id": "54272d7d",
   "metadata": {},
   "outputs": [],
   "source": [
    "# Росты среди взрослых футболистов, хоккеистов, штангистов\n",
    "y1 = np.array([173, 175, 180, 178, 177, 185, 183, 182])\n",
    "y2 = np.array([177, 179, 180, 188, 177, 172, 171, 184, 180])\n",
    "y3 = np.array([172, 173, 169, 177, 166, 180, 178, 177, 172, 166, 170])"
   ]
  },
  {
   "cell_type": "code",
   "execution_count": 5,
   "id": "4a2b6340",
   "metadata": {},
   "outputs": [],
   "source": [
    "# Средний рост по каждой группе наблюдения\n",
    "y1_mean = np.mean(y1)\n",
    "y2_mean = np.mean(y2)\n",
    "y3_mean = np.mean(y3)"
   ]
  },
  {
   "cell_type": "code",
   "execution_count": 6,
   "id": "9e517ff3",
   "metadata": {},
   "outputs": [
    {
     "data": {
      "text/plain": [
       "array([173, 175, 180, 178, 177, 185, 183, 182, 177, 179, 180, 188, 177,\n",
       "       172, 171, 184, 180, 172, 173, 169, 177, 166, 180, 178, 177, 172,\n",
       "       166, 170])"
      ]
     },
     "execution_count": 6,
     "metadata": {},
     "output_type": "execute_result"
    }
   ],
   "source": [
    "y_all = np.concatenate([y1, y2, y3])\n",
    "y_all"
   ]
  },
  {
   "cell_type": "code",
   "execution_count": 8,
   "id": "4c5ca5bc",
   "metadata": {},
   "outputs": [
    {
     "data": {
      "text/plain": [
       "176.46428571428572"
      ]
     },
     "execution_count": 8,
     "metadata": {},
     "output_type": "execute_result"
    }
   ],
   "source": [
    "# Средний рост среди спортсменов:\n",
    "y_mean = np.mean(y_all)\n",
    "y_mean"
   ]
  },
  {
   "cell_type": "code",
   "execution_count": 9,
   "id": "3faf03f3",
   "metadata": {},
   "outputs": [
    {
     "data": {
      "text/plain": [
       "830.9642857142854"
      ]
     },
     "execution_count": 9,
     "metadata": {},
     "output_type": "execute_result"
    }
   ],
   "source": [
    "# Проведем ряд вычислений для определения статистической значимости различий среднего роста\n",
    "s2 = np.sum((y_all - y_mean)**2)\n",
    "s2"
   ]
  },
  {
   "cell_type": "code",
   "execution_count": 10,
   "id": "6f272ba9",
   "metadata": {},
   "outputs": [
    {
     "data": {
      "text/plain": [
       "253.9074675324678"
      ]
     },
     "execution_count": 10,
     "metadata": {},
     "output_type": "execute_result"
    }
   ],
   "source": [
    "s2_f = ((y1_mean - y_mean)**2)*n1 + ((y2_mean - y_mean)**2)*n2 + ((y3_mean - y_mean)**2)*n3\n",
    "s2_f"
   ]
  },
  {
   "cell_type": "code",
   "execution_count": 11,
   "id": "52996d58",
   "metadata": {},
   "outputs": [
    {
     "data": {
      "text/plain": [
       "577.0568181818177"
      ]
     },
     "execution_count": 11,
     "metadata": {},
     "output_type": "execute_result"
    }
   ],
   "source": [
    "s2_residual = s2 - s2_f\n",
    "s2_residual"
   ]
  },
  {
   "cell_type": "code",
   "execution_count": 12,
   "id": "e4f1deee",
   "metadata": {},
   "outputs": [
    {
     "data": {
      "text/plain": [
       "30.776455026455015"
      ]
     },
     "execution_count": 12,
     "metadata": {},
     "output_type": "execute_result"
    }
   ],
   "source": [
    "sigma2_general = s2/(n-1)\n",
    "sigma2_general"
   ]
  },
  {
   "cell_type": "code",
   "execution_count": 13,
   "id": "994b4b69",
   "metadata": {},
   "outputs": [
    {
     "data": {
      "text/plain": [
       "126.9537337662339"
      ]
     },
     "execution_count": 13,
     "metadata": {},
     "output_type": "execute_result"
    }
   ],
   "source": [
    "sigma2_f = s2_f/(k-1) \n",
    "sigma2_f"
   ]
  },
  {
   "cell_type": "code",
   "execution_count": 14,
   "id": "3fb701af",
   "metadata": {},
   "outputs": [
    {
     "data": {
      "text/plain": [
       "23.082272727272706"
      ]
     },
     "execution_count": 14,
     "metadata": {},
     "output_type": "execute_result"
    }
   ],
   "source": [
    "sigma2_residual = s2_residual/(n-k)\n",
    "sigma2_residual"
   ]
  },
  {
   "cell_type": "code",
   "execution_count": 15,
   "id": "52ea6552",
   "metadata": {},
   "outputs": [
    {
     "data": {
      "text/plain": [
       "5.5000534508126036"
      ]
     },
     "execution_count": 15,
     "metadata": {},
     "output_type": "execute_result"
    }
   ],
   "source": [
    "# Фактор Фишера-Снедекора:\n",
    "F_h = sigma2_f / sigma2_residual\n",
    "F_h"
   ]
  },
  {
   "cell_type": "markdown",
   "id": "ea4c64e2",
   "metadata": {},
   "source": [
    "При alfa=0.05, df = 2, df(внутр.) = 25, табличное значение критерия Фишера-Снедекора = 3,38."
   ]
  },
  {
   "cell_type": "markdown",
   "id": "25af8b41",
   "metadata": {},
   "source": [
    "Таким образом, F_h > F_крит. => различие среднего роста спортсменов статистически значимо."
   ]
  },
  {
   "cell_type": "code",
   "execution_count": 16,
   "id": "4c3f23b7",
   "metadata": {},
   "outputs": [
    {
     "data": {
      "text/plain": [
       "0.30555761769498"
      ]
     },
     "execution_count": 16,
     "metadata": {},
     "output_type": "execute_result"
    }
   ],
   "source": [
    "# Вычислим эмпирическое корреляционное отношение:\n",
    "eta = s2_f/s2\n",
    "eta"
   ]
  },
  {
   "cell_type": "markdown",
   "id": "44fbced9",
   "metadata": {},
   "source": [
    "Вывод: Значение \"Эта\" укладывается в диапазон 0,2-0,3 => различие ростов спортсменов статистически незначимо."
   ]
  }
 ],
 "metadata": {
  "kernelspec": {
   "display_name": "Python 3 (ipykernel)",
   "language": "python",
   "name": "python3"
  },
  "language_info": {
   "codemirror_mode": {
    "name": "ipython",
    "version": 3
   },
   "file_extension": ".py",
   "mimetype": "text/x-python",
   "name": "python",
   "nbconvert_exporter": "python",
   "pygments_lexer": "ipython3",
   "version": "3.9.12"
  }
 },
 "nbformat": 4,
 "nbformat_minor": 5
}
